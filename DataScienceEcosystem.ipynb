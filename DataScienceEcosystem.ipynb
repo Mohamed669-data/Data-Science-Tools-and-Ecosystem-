{
 "cells": [
  {
   "cell_type": "markdown",
   "id": "0af1e81e-5a9e-4de2-b7c9-7a58b8945cb5",
   "metadata": {},
   "source": [
    "# Data Science Tools and Ecosystem "
   ]
  },
  {
   "cell_type": "markdown",
   "id": "20ad8fcb-25fa-434d-95cb-20804cf7f44b",
   "metadata": {},
   "source": [
    "Data Science Tools and Ecosystem are summarized in this notebook"
   ]
  },
  {
   "cell_type": "markdown",
   "id": "3790b5ef-eb78-4529-a4ec-5dab8bceba77",
   "metadata": {},
   "source": [
    "Data Science Languages:\n",
    "1. Python\n",
    "2. R\n",
    "3. SQL\n",
    "4. C++\n",
    "5. Java "
   ]
  },
  {
   "cell_type": "markdown",
   "id": "193aed1f-ef32-4fea-a3ca-17c429ea1605",
   "metadata": {},
   "source": [
    "Data Science libraries:\n",
    "1. TensorFlow\n",
    "2. NumPy \n",
    "3. SciPy\n",
    "4. Pandas\n",
    "5. Keras\n",
    "6. Matplotlib\n",
    "7. SciKit-Learn\n",
    "8. PyTorch"
   ]
  },
  {
   "cell_type": "markdown",
   "id": "2cdf9b3f-e46e-492d-931a-38ee8c3dbcea",
   "metadata": {},
   "source": [
    "|Data Science tools|\n",
    "|---|\n",
    "|SAS|\n",
    "|Apache Hadoop|\n",
    "|TensorFlow|"
   ]
  },
  {
   "cell_type": "markdown",
   "id": "1cfde697-9380-4500-838a-f0d3b9a31d4a",
   "metadata": {},
   "source": [
    "### Arithmetic expressions involve mathematical operations like addition, subtraction, multiplication, and division. They are fundamental to programming and mathematics. Here are some examples:"
   ]
  },
  {
   "cell_type": "code",
   "execution_count": 29,
   "id": "807d6271-9209-4e9e-a280-b2abc65f1023",
   "metadata": {},
   "outputs": [
    {
     "data": {
      "text/plain": [
       "57"
      ]
     },
     "execution_count": 29,
     "metadata": {},
     "output_type": "execute_result"
    }
   ],
   "source": [
    "# A code cell to multiply and add numbers\n",
    "(6*8)+9"
   ]
  },
  {
   "cell_type": "code",
   "execution_count": 31,
   "id": "f18b5e05-7a86-443e-bf23-b2b4c3e4c952",
   "metadata": {},
   "outputs": [
    {
     "data": {
      "text/plain": [
       "5.0"
      ]
     },
     "execution_count": 31,
     "metadata": {},
     "output_type": "execute_result"
    }
   ],
   "source": [
    "#  A code cell to convert minutes to hours.\n",
    "300/60"
   ]
  },
  {
   "cell_type": "markdown",
   "id": "e60147ae-8f13-49ea-a3db-a6bee3ee946f",
   "metadata": {},
   "source": [
    "_Objective_\n",
    "* List data science languages.\n",
    "* List data science libraries. \n",
    "* Table of Data Science tools.\n",
    "* Introducing arithmetic expression examples.\n",
    "* Multiply and add numbers.\r\n"
   ]
  },
  {
   "cell_type": "markdown",
   "id": "086a2069-c7f8-48e1-a56d-94f040b4c7f8",
   "metadata": {},
   "source": [
    "###### Author\n",
    "Mohamed669"
   ]
  }
 ],
 "metadata": {
  "kernelspec": {
   "display_name": "Python 3 (ipykernel)",
   "language": "python",
   "name": "python3"
  },
  "language_info": {
   "codemirror_mode": {
    "name": "ipython",
    "version": 3
   },
   "file_extension": ".py",
   "mimetype": "text/x-python",
   "name": "python",
   "nbconvert_exporter": "python",
   "pygments_lexer": "ipython3",
   "version": "3.12.4"
  }
 },
 "nbformat": 4,
 "nbformat_minor": 5
}
